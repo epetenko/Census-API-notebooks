{
 "cells": [
  {
   "cell_type": "code",
   "execution_count": 1,
   "metadata": {
    "collapsed": true
   },
   "outputs": [],
   "source": [
    "#importing necessary libraries\n",
    "import pandas as pd\n",
    "import requests"
   ]
  },
  {
   "cell_type": "code",
   "execution_count": 2,
   "metadata": {
    "collapsed": true
   },
   "outputs": [],
   "source": [
    "#variables that will change each YEAR\n",
    "\n",
    "#monetary values only\n",
    "inflation_rate = .067\n",
    "\n",
    "#years you need\n",
    "lastest_year = '2017/acs'\n",
    "oldest_year = '2012'\n",
    "\n",
    "#please change these as well\n",
    "years = ['2012', '2017']\n",
    "\n",
    "#ignore this\n",
    "top_geogs = ['us:1', 'state:34']"
   ]
  },
  {
   "cell_type": "code",
   "execution_count": 3,
   "metadata": {
    "collapsed": true
   },
   "outputs": [],
   "source": [
    "#variables that will change each DATASET\n",
    "\n",
    "#name of the variable you need and its margin of error (from https://api.census.gov/data/2017/acs/acs5/subject/variables.html)\n",
    "api_variable = 'B08013_001E'\n",
    "api_moe = 'B08013_001M'\n",
    "\n",
    "#give it a name so that the column names line up right. Lowercase plz\n",
    "api_name = 'pop'"
   ]
  },
  {
   "cell_type": "code",
   "execution_count": 4,
   "metadata": {
    "collapsed": false
   },
   "outputs": [],
   "source": [
    "#this pulls the data you need for country and state columns\n",
    "def create_top_dfs():\n",
    "    my_data = {}\n",
    "    for n in years:\n",
    "        for d in top_geogs:\n",
    "            url = 'https://api.census.gov/data/'+ n +'/acs/acs5?get='+ api_variable + ',NAME&for=' + d +  '&key=37e80b2543b3d018cfbeb06c5dca27cf33e789e7'\n",
    "            r = requests.get(url)\n",
    "            x = r.json()\n",
    "            df = pd.DataFrame(x[1:],columns=x[0])\n",
    "            df = df.replace(to_replace=['-555555555.0','-555555555',], value='')\n",
    "            raw_result = pd.to_numeric(df[api_variable][0])\n",
    "            my_data[n + d] = raw_result\n",
    "    return my_data"
   ]
  },
  {
   "cell_type": "code",
   "execution_count": 5,
   "metadata": {
    "collapsed": false
   },
   "outputs": [],
   "source": [
    "top_df_dict = create_top_dfs()\n",
    "\n",
    "#set the absolute values you will use later on\n",
    "us_previous = top_df_dict['2012us:1']\n",
    "us_latest = top_df_dict['2017us:1']\n",
    "nj_previous = top_df_dict['2012state:34']\n",
    "nj_latest = top_df_dict['2017state:34']"
   ]
  },
  {
   "cell_type": "code",
   "execution_count": 6,
   "metadata": {
    "collapsed": false
   },
   "outputs": [],
   "source": [
    "#pulls the data for the years and geography level you specify\n",
    "def create_local_dfs(year, geography):\n",
    "    df_list = []\n",
    "    url = 'https://api.census.gov/data/'+ year +'/acs5?get=NAME,'+ api_variable +',' + api_moe + '&for=' + geography +  '&in=state:34&key=37e80b2543b3d018cfbeb06c5dca27cf33e789e7'\n",
    "    print url\n",
    "    r = requests.get(url)\n",
    "    x = r.json()\n",
    "    df = pd.DataFrame(x[1:], columns=x[0])\n",
    "    #some null values will return as large negative numbers\n",
    "    df = df.replace(to_replace=['-555555555.0','-555555555',], value='')\n",
    "    #all variables returned as strings at first\n",
    "    df[api_variable] = pd.to_numeric(df[api_variable], errors='coerce')\n",
    "    df[api_moe] = pd.to_numeric(df[api_moe], errors='coerce')\n",
    "    return df"
   ]
  },
  {
   "cell_type": "code",
   "execution_count": 7,
   "metadata": {
    "collapsed": false
   },
   "outputs": [],
   "source": [
    "#data cleaning function\n",
    "def clean_local_dfs(year, label):\n",
    "        muni = create_local_dfs(year, 'county%20subdivision:*')\n",
    "        cty = create_local_dfs(year, 'county:*')\n",
    "        #combines muni and county data\n",
    "        local_df = muni.append(cty).reset_index().drop(labels='index', axis=1)\n",
    "        local_df['county subdivision'] = local_df['county subdivision'].fillna('')\n",
    "        #create FIPS code, since it initially returns as separate columns\n",
    "        local_df['GEO.id2'] = local_df.state + local_df.county + local_df['county subdivision']\n",
    "        local_df = local_df[[api_variable, api_moe, u'NAME',\n",
    "                  u'GEO.id2']]\n",
    "        #create \"geography levels\" for separate muni, county columns\n",
    "        local_df['GEOLevel1'] = local_df['NAME'].str.split(', ', expand=True)[0]\n",
    "        local_df['GEOLevel2'] = local_df['NAME'].str.split(', ', expand=True)[1]\n",
    "        #calculate margin of errors's percent of value\n",
    "        local_df['moe_pct'] = (local_df[api_moe] / local_df[api_variable]) * 100\n",
    "        #rename from api variable to nice topic name\n",
    "        local_df = local_df.rename(columns={api_variable: api_name, api_moe: api_name + '_moe', 'NAME':'GEOdisplaylabel'})\n",
    "        local_df['GEOdisplaylabel'] = local_df['GEOdisplaylabel'].replace(to_replace=', New Jersey', value='', regex=True)\n",
    "        return local_df"
   ]
  },
  {
   "cell_type": "code",
   "execution_count": 8,
   "metadata": {
    "collapsed": false,
    "scrolled": true
   },
   "outputs": [
    {
     "name": "stdout",
     "output_type": "stream",
     "text": [
      "https://api.census.gov/data/2017/acs/acs5?get=NAME,B08013_001E,B08013_001M&for=county%20subdivision:*&in=state:34&key=37e80b2543b3d018cfbeb06c5dca27cf33e789e7\n",
      "https://api.census.gov/data/2017/acs/acs5?get=NAME,B08013_001E,B08013_001M&for=county:*&in=state:34&key=37e80b2543b3d018cfbeb06c5dca27cf33e789e7\n",
      "https://api.census.gov/data/2012/acs5?get=NAME,B08013_001E,B08013_001M&for=county%20subdivision:*&in=state:34&key=37e80b2543b3d018cfbeb06c5dca27cf33e789e7\n",
      "https://api.census.gov/data/2012/acs5?get=NAME,B08013_001E,B08013_001M&for=county:*&in=state:34&key=37e80b2543b3d018cfbeb06c5dca27cf33e789e7\n"
     ]
    }
   ],
   "source": [
    "var_latest = clean_local_dfs(lastest_year, 'latest')\n",
    "var_prev = clean_local_dfs(oldest_year, 'prev')"
   ]
  },
  {
   "cell_type": "code",
   "execution_count": 9,
   "metadata": {
    "collapsed": false
   },
   "outputs": [],
   "source": [
    "#Merge \n",
    "var_merge = pd.merge(var_latest, var_prev, left_on='GEO.id2', right_on='GEO.id2', how='outer', suffixes=('_latest', '_prev'))"
   ]
  },
  {
   "cell_type": "code",
   "execution_count": 10,
   "metadata": {
    "collapsed": false
   },
   "outputs": [],
   "source": [
    "#drop unneccessary columns and rename ones that need it\n",
    "var_merge = var_merge.drop(['GEOdisplaylabel_prev', 'GEOLevel1_latest', 'GEOLevel2_latest'], axis=1)\n",
    "var_merge.rename(columns={'GEOdisplaylabel_latest': 'GEOdisplaylabel', 'GEOLevel1_prev': 'GEOLevel1','GEOLevel2_prev':'GEOLevel2', 'GEO.id_latest': 'GEO.id', 'GEOdisplaylabel_long_x': 'GEOdisplaylabel_long'}, inplace=True)"
   ]
  },
  {
   "cell_type": "code",
   "execution_count": 11,
   "metadata": {
    "collapsed": false
   },
   "outputs": [],
   "source": [
    "#Take out County subdivisions not defined\n",
    "var_merge = var_merge[var_merge['GEOdisplaylabel'].str.contains(\"County subdivisions not defined\") == False]\n",
    "var_merge = var_merge.sort_values(by=['GEO.id2'])"
   ]
  },
  {
   "cell_type": "code",
   "execution_count": 12,
   "metadata": {
    "collapsed": false
   },
   "outputs": [],
   "source": [
    "#Add NJ and Nationwide\n",
    "var_merge['nj_' + api_name+'_latest'] = nj_latest\n",
    "var_merge['nj_' + api_name+'_prev'] = nj_previous\n",
    "var_merge['usa_' + api_name+'_latest'] = us_latest\n",
    "var_merge['usa_' + api_name+'_prev'] = us_previous\n",
    "var_merge[api_name+'_per_change'] = ((var_merge[api_name+'_latest'] - var_merge[api_name+'_prev']) / var_merge[api_name+'_prev']) * 100\n",
    "var_merge['nj_' + api_name+'_change'] = ((var_merge['nj_' + api_name+'_latest'] - var_merge['nj_' + api_name+'_prev']) / var_merge['nj_' + api_name+'_prev']) * 100\n",
    "var_merge['us_' + api_name+'_change'] = ((var_merge['usa_' + api_name+'_latest'] - var_merge['usa_' + api_name+'_prev']) / var_merge['usa_' + api_name+'_prev']) * 100"
   ]
  },
  {
   "cell_type": "code",
   "execution_count": 13,
   "metadata": {
    "collapsed": false
   },
   "outputs": [
    {
     "data": {
      "text/plain": [
       "Index([u'pop_latest', u'pop_moe_latest', u'GEOdisplaylabel', u'GEO.id2',\n",
       "       u'moe_pct_latest', u'pop_prev', u'pop_moe_prev', u'GEOLevel1',\n",
       "       u'GEOLevel2', u'moe_pct_prev', u'nj_pop_latest', u'nj_pop_prev',\n",
       "       u'usa_pop_latest', u'usa_pop_prev', u'pop_per_change', u'nj_pop_change',\n",
       "       u'us_pop_change'],\n",
       "      dtype='object')"
      ]
     },
     "execution_count": 13,
     "metadata": {},
     "output_type": "execute_result"
    }
   ],
   "source": [
    "var_merge.columns"
   ]
  },
  {
   "cell_type": "code",
   "execution_count": 14,
   "metadata": {
    "collapsed": false
   },
   "outputs": [],
   "source": [
    "# re-ordering columns the way I want them\n",
    "\n",
    "var_merge = var_merge[[ u'GEOdisplaylabel', u'GEO.id2',\n",
    "        u'GEOLevel1', u'GEOLevel2',api_name + '_latest', api_name + '_moe_latest', \n",
    "        'moe_pct_latest',\n",
    "        api_name + '_prev', api_name + '_moe_prev', 'moe_pct_prev',\n",
    "       u'nj_' + api_name+'_latest', u'nj_' + api_name+'_prev',\n",
    "       u'usa_' + api_name+'_latest', u'usa_' + api_name+'_prev',\n",
    "       api_name + '_per_change', u'nj_' + api_name+'_change',\n",
    "       u'us_' + api_name+'_change']]"
   ]
  },
  {
   "cell_type": "code",
   "execution_count": 15,
   "metadata": {
    "collapsed": false
   },
   "outputs": [
    {
     "data": {
      "text/html": [
       "<div>\n",
       "<table border=\"1\" class=\"dataframe\">\n",
       "  <thead>\n",
       "    <tr style=\"text-align: right;\">\n",
       "      <th></th>\n",
       "      <th>GEOdisplaylabel</th>\n",
       "      <th>GEO.id2</th>\n",
       "      <th>GEOLevel1</th>\n",
       "      <th>GEOLevel2</th>\n",
       "      <th>pop_latest</th>\n",
       "      <th>pop_moe_latest</th>\n",
       "      <th>moe_pct_latest</th>\n",
       "      <th>pop_prev</th>\n",
       "      <th>pop_moe_prev</th>\n",
       "      <th>moe_pct_prev</th>\n",
       "      <th>nj_pop_latest</th>\n",
       "      <th>nj_pop_prev</th>\n",
       "      <th>usa_pop_latest</th>\n",
       "      <th>usa_pop_prev</th>\n",
       "      <th>pop_per_change</th>\n",
       "      <th>nj_pop_change</th>\n",
       "      <th>us_pop_change</th>\n",
       "    </tr>\n",
       "  </thead>\n",
       "  <tbody>\n",
       "    <tr>\n",
       "      <th>577</th>\n",
       "      <td>Atlantic County</td>\n",
       "      <td>34001</td>\n",
       "      <td>Atlantic County</td>\n",
       "      <td>New Jersey</td>\n",
       "      <td>2955915.0</td>\n",
       "      <td>66707.0</td>\n",
       "      <td>2.256729</td>\n",
       "      <td>2909250.0</td>\n",
       "      <td>73018.0</td>\n",
       "      <td>2.509856</td>\n",
       "      <td>129616480</td>\n",
       "      <td>120359875</td>\n",
       "      <td>3730653340</td>\n",
       "      <td>3406212860</td>\n",
       "      <td>1.604022</td>\n",
       "      <td>7.690773</td>\n",
       "      <td>9.524962</td>\n",
       "    </tr>\n",
       "    <tr>\n",
       "      <th>98</th>\n",
       "      <td>Absecon city, Atlantic County</td>\n",
       "      <td>3400100100</td>\n",
       "      <td>Absecon city</td>\n",
       "      <td>Atlantic County</td>\n",
       "      <td>87870.0</td>\n",
       "      <td>11011.0</td>\n",
       "      <td>12.531012</td>\n",
       "      <td>80275.0</td>\n",
       "      <td>8288.0</td>\n",
       "      <td>10.324509</td>\n",
       "      <td>129616480</td>\n",
       "      <td>120359875</td>\n",
       "      <td>3730653340</td>\n",
       "      <td>3406212860</td>\n",
       "      <td>9.461227</td>\n",
       "      <td>7.690773</td>\n",
       "      <td>9.524962</td>\n",
       "    </tr>\n",
       "    <tr>\n",
       "      <th>121</th>\n",
       "      <td>Atlantic City city, Atlantic County</td>\n",
       "      <td>3400102080</td>\n",
       "      <td>Atlantic City city</td>\n",
       "      <td>Atlantic County</td>\n",
       "      <td>299780.0</td>\n",
       "      <td>19248.0</td>\n",
       "      <td>6.420709</td>\n",
       "      <td>299975.0</td>\n",
       "      <td>25741.0</td>\n",
       "      <td>8.581048</td>\n",
       "      <td>129616480</td>\n",
       "      <td>120359875</td>\n",
       "      <td>3730653340</td>\n",
       "      <td>3406212860</td>\n",
       "      <td>-0.065005</td>\n",
       "      <td>7.690773</td>\n",
       "      <td>9.524962</td>\n",
       "    </tr>\n",
       "    <tr>\n",
       "      <th>109</th>\n",
       "      <td>Brigantine city, Atlantic County</td>\n",
       "      <td>3400107810</td>\n",
       "      <td>Brigantine city</td>\n",
       "      <td>Atlantic County</td>\n",
       "      <td>120545.0</td>\n",
       "      <td>14204.0</td>\n",
       "      <td>11.783152</td>\n",
       "      <td>113320.0</td>\n",
       "      <td>14258.0</td>\n",
       "      <td>12.582068</td>\n",
       "      <td>129616480</td>\n",
       "      <td>120359875</td>\n",
       "      <td>3730653340</td>\n",
       "      <td>3406212860</td>\n",
       "      <td>6.375750</td>\n",
       "      <td>7.690773</td>\n",
       "      <td>9.524962</td>\n",
       "    </tr>\n",
       "    <tr>\n",
       "      <th>112</th>\n",
       "      <td>Buena borough, Atlantic County</td>\n",
       "      <td>3400108680</td>\n",
       "      <td>Buena borough</td>\n",
       "      <td>Atlantic County</td>\n",
       "      <td>52920.0</td>\n",
       "      <td>8903.0</td>\n",
       "      <td>16.823507</td>\n",
       "      <td>47440.0</td>\n",
       "      <td>7021.0</td>\n",
       "      <td>14.799747</td>\n",
       "      <td>129616480</td>\n",
       "      <td>120359875</td>\n",
       "      <td>3730653340</td>\n",
       "      <td>3406212860</td>\n",
       "      <td>11.551433</td>\n",
       "      <td>7.690773</td>\n",
       "      <td>9.524962</td>\n",
       "    </tr>\n",
       "  </tbody>\n",
       "</table>\n",
       "</div>"
      ],
      "text/plain": [
       "                         GEOdisplaylabel     GEO.id2           GEOLevel1  \\\n",
       "577                      Atlantic County       34001     Atlantic County   \n",
       "98         Absecon city, Atlantic County  3400100100        Absecon city   \n",
       "121  Atlantic City city, Atlantic County  3400102080  Atlantic City city   \n",
       "109     Brigantine city, Atlantic County  3400107810     Brigantine city   \n",
       "112       Buena borough, Atlantic County  3400108680       Buena borough   \n",
       "\n",
       "           GEOLevel2  pop_latest  pop_moe_latest  moe_pct_latest   pop_prev  \\\n",
       "577       New Jersey   2955915.0         66707.0        2.256729  2909250.0   \n",
       "98   Atlantic County     87870.0         11011.0       12.531012    80275.0   \n",
       "121  Atlantic County    299780.0         19248.0        6.420709   299975.0   \n",
       "109  Atlantic County    120545.0         14204.0       11.783152   113320.0   \n",
       "112  Atlantic County     52920.0          8903.0       16.823507    47440.0   \n",
       "\n",
       "     pop_moe_prev  moe_pct_prev  nj_pop_latest  nj_pop_prev  usa_pop_latest  \\\n",
       "577       73018.0      2.509856      129616480    120359875      3730653340   \n",
       "98         8288.0     10.324509      129616480    120359875      3730653340   \n",
       "121       25741.0      8.581048      129616480    120359875      3730653340   \n",
       "109       14258.0     12.582068      129616480    120359875      3730653340   \n",
       "112        7021.0     14.799747      129616480    120359875      3730653340   \n",
       "\n",
       "     usa_pop_prev  pop_per_change  nj_pop_change  us_pop_change  \n",
       "577    3406212860        1.604022       7.690773       9.524962  \n",
       "98     3406212860        9.461227       7.690773       9.524962  \n",
       "121    3406212860       -0.065005       7.690773       9.524962  \n",
       "109    3406212860        6.375750       7.690773       9.524962  \n",
       "112    3406212860       11.551433       7.690773       9.524962  "
      ]
     },
     "execution_count": 15,
     "metadata": {},
     "output_type": "execute_result"
    }
   ],
   "source": [
    "var_merge.head()"
   ]
  },
  {
   "cell_type": "code",
   "execution_count": 16,
   "metadata": {
    "collapsed": false
   },
   "outputs": [],
   "source": [
    "# var_merge.to_csv('pop_data_towns_clean.csv', header=True, index=False)"
   ]
  },
  {
   "cell_type": "code",
   "execution_count": null,
   "metadata": {
    "collapsed": true
   },
   "outputs": [],
   "source": []
  }
 ],
 "metadata": {
  "kernelspec": {
   "display_name": "Python 2",
   "language": "python",
   "name": "python2"
  },
  "language_info": {
   "codemirror_mode": {
    "name": "ipython",
    "version": 2
   },
   "file_extension": ".py",
   "mimetype": "text/x-python",
   "name": "python",
   "nbconvert_exporter": "python",
   "pygments_lexer": "ipython2",
   "version": "2.7.12"
  }
 },
 "nbformat": 4,
 "nbformat_minor": 0
}
